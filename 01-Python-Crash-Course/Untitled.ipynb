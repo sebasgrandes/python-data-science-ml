{
 "cells": [
  {
   "cell_type": "code",
   "execution_count": 2,
   "id": "94cc20e2-98b1-4019-b30b-558b9ffc41b0",
   "metadata": {
    "scrolled": true
   },
   "outputs": [
    {
     "name": "stdout",
     "output_type": "stream",
     "text": [
      "9\n"
     ]
    }
   ],
   "source": [
    "print(1+8)"
   ]
  },
  {
   "cell_type": "code",
   "execution_count": 3,
   "id": "79ce7bd1-9ad8-4c09-b41f-ee996683f203",
   "metadata": {},
   "outputs": [
    {
     "ename": "NameError",
     "evalue": "name 'asfdsad' is not defined",
     "output_type": "error",
     "traceback": [
      "\u001b[1;31m---------------------------------------------------------------------------\u001b[0m",
      "\u001b[1;31mNameError\u001b[0m                                 Traceback (most recent call last)",
      "Cell \u001b[1;32mIn[3], line 1\u001b[0m\n\u001b[1;32m----> 1\u001b[0m \u001b[43masfdsad\u001b[49m\n",
      "\u001b[1;31mNameError\u001b[0m: name 'asfdsad' is not defined"
     ]
    }
   ],
   "source": [
    "asfdsad"
   ]
  },
  {
   "cell_type": "code",
   "execution_count": 4,
   "id": "d3d2ddf6-7608-446d-a61b-ab46f2c0d0f6",
   "metadata": {},
   "outputs": [
    {
     "name": "stdout",
     "output_type": "stream",
     "text": [
      "sadasdasd\n"
     ]
    }
   ],
   "source": [
    "print(\"sadasdasd\")"
   ]
  },
  {
   "cell_type": "code",
   "execution_count": null,
   "id": "ffe85e02-e8ff-4644-be97-060277178b41",
   "metadata": {},
   "outputs": [],
   "source": []
  }
 ],
 "metadata": {
  "kernelspec": {
   "display_name": "Python 3 (ipykernel)",
   "language": "python",
   "name": "python3"
  },
  "language_info": {
   "codemirror_mode": {
    "name": "ipython",
    "version": 3
   },
   "file_extension": ".py",
   "mimetype": "text/x-python",
   "name": "python",
   "nbconvert_exporter": "python",
   "pygments_lexer": "ipython3",
   "version": "3.12.3"
  }
 },
 "nbformat": 4,
 "nbformat_minor": 5
}
