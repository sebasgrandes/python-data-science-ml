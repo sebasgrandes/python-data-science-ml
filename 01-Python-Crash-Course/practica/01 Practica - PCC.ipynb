{
 "cells": [
  {
   "cell_type": "code",
   "execution_count": 2,
   "id": "216d5919-ee91-4455-97b0-d9bac5875256",
   "metadata": {},
   "outputs": [
    {
     "name": "stdout",
     "output_type": "stream",
     "text": [
      "32\n",
      "1\n"
     ]
    }
   ],
   "source": [
    "# operadores no tan conocidos\n",
    "print(2**5)\n",
    "print(5%2)"
   ]
  },
  {
   "cell_type": "code",
   "execution_count": 18,
   "id": "46cf4253-3d86-4f9a-ba57-441a38f1e275",
   "metadata": {},
   "outputs": [
    {
     "data": {
      "text/plain": [
       "'helou'"
      ]
     },
     "execution_count": 18,
     "metadata": {},
     "output_type": "execute_result"
    }
   ],
   "source": [
    "# esta no es una manera \"formal\" de imprimir valores\n",
    "\"helou\""
   ]
  },
  {
   "cell_type": "code",
   "execution_count": 19,
   "id": "31bcda01-caf6-4469-a25d-7cdb60c0afad",
   "metadata": {},
   "outputs": [
    {
     "name": "stdout",
     "output_type": "stream",
     "text": [
      "holaa\n"
     ]
    }
   ],
   "source": [
    "print(\"holaa\")"
   ]
  },
  {
   "cell_type": "code",
   "execution_count": 14,
   "id": "23b5ab4f-1cbf-49be-9225-62322d23dba6",
   "metadata": {},
   "outputs": [
    {
     "name": "stdout",
     "output_type": "stream",
     "text": [
      "Mi nombre es Sebastian Grandes y tengo 23 años\n"
     ]
    }
   ],
   "source": [
    "# forma de concatenar\n",
    "age = 23\n",
    "name = \"Sebastian Grandes\"\n",
    "\n",
    "print(\"Mi nombre es {} y tengo {} años\".format(name, age))"
   ]
  },
  {
   "cell_type": "code",
   "execution_count": 8,
   "id": "1c3120e5-37ee-49a7-9244-4bfdce0de713",
   "metadata": {},
   "outputs": [
    {
     "name": "stdout",
     "output_type": "stream",
     "text": [
      "Mi nombre es Andrea y tengo 23 años\n"
     ]
    }
   ],
   "source": [
    "# forma de concatenar igualito\n",
    "print(\"Mi nombre es {uno} y tengo {dos} años\".format(uno=\"Andrea\", dos=\"23\"))"
   ]
  },
  {
   "cell_type": "code",
   "execution_count": 13,
   "id": "211d2b23-133f-4a8b-b907-06e338902509",
   "metadata": {},
   "outputs": [
    {
     "name": "stdout",
     "output_type": "stream",
     "text": [
      "S\n",
      "Andre Grandes Conqui\n",
      "Sebastian Andre Grandes Conqui\n",
      "Sebastian\n",
      "Andre \n"
     ]
    }
   ],
   "source": [
    "# extraccion de strings\n",
    "s = \"Sebastian Andre Grandes Conqui\"\n",
    "print(s[0])\n",
    "print(s[10:])\n",
    "print(s[:])\n",
    "print(s[:9])\n",
    "print(s[10:16])\n"
   ]
  },
  {
   "cell_type": "code",
   "execution_count": 23,
   "id": "c353554b",
   "metadata": {},
   "outputs": [
    {
     "name": "stdout",
     "output_type": "stream",
     "text": [
      "[1, 2, ['Sebastian', 'Andre'], 3, 4, 5]\n",
      "['Sebastian', 'Andre']\n",
      "Andre\n"
     ]
    }
   ],
   "source": [
    "# Esta es una lista, basicamente un array de js\n",
    "lista = [1,2,[\"Sebastian\", \"Andre\"], 3, 4, 5]\n",
    "print(lista)\n",
    "print(lista[2])\n",
    "print(lista[2][1])"
   ]
  },
  {
   "cell_type": "code",
   "execution_count": 24,
   "id": "1576bfc9",
   "metadata": {},
   "outputs": [
    {
     "name": "stdout",
     "output_type": "stream",
     "text": [
      "[1, 'Andrea', ['Sebastian', 'Andre'], 3, 4, 5]\n"
     ]
    }
   ],
   "source": [
    "## reemplazando un valor a la lista\n",
    "lista[1] = \"Andrea\"\n",
    "print(lista)"
   ]
  },
  {
   "cell_type": "code",
   "execution_count": 25,
   "id": "0e7092d3",
   "metadata": {},
   "outputs": [
    {
     "name": "stdout",
     "output_type": "stream",
     "text": [
      "[1, 'Andrea', ['Sebastian', 'Andre'], 3, 4, 5, 'Lino']\n"
     ]
    }
   ],
   "source": [
    "## insertando un valor a la lista\n",
    "lista.append(\"Lino\")\n",
    "print(lista)"
   ]
  },
  {
   "cell_type": "code",
   "execution_count": 26,
   "id": "2354abc7",
   "metadata": {},
   "outputs": [
    {
     "name": "stdout",
     "output_type": "stream",
     "text": [
      "['Katherine', 1, 'Andre', 'Andrea', ['Sebastian', 'Andre'], 3, 4, 5, 'Lino']\n"
     ]
    }
   ],
   "source": [
    "lista.insert(0, \"Katherine\")\n",
    "lista.insert(2, \"Andre\")\n",
    "print(lista)"
   ]
  }
 ],
 "metadata": {
  "kernelspec": {
   "display_name": "Python 3 (ipykernel)",
   "language": "python",
   "name": "python3"
  },
  "language_info": {
   "codemirror_mode": {
    "name": "ipython",
    "version": 3
   },
   "file_extension": ".py",
   "mimetype": "text/x-python",
   "name": "python",
   "nbconvert_exporter": "python",
   "pygments_lexer": "ipython3",
   "version": "3.12.3"
  }
 },
 "nbformat": 4,
 "nbformat_minor": 5
}
