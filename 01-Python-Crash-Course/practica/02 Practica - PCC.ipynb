{
 "cells": [
  {
   "cell_type": "code",
   "execution_count": 4,
   "metadata": {},
   "outputs": [
    {
     "name": "stdout",
     "output_type": "stream",
     "text": [
      "[1, 2, 3, 4, 5]\n",
      "1\n",
      "{'Helou'}\n"
     ]
    }
   ],
   "source": [
    "\n",
    "# - Diccionarios\n",
    "# son como objetos de javascript, llave valor\n",
    "dict = {\"Sebastian\": [1,2,3,4,5], \"Andrea\": {\"Helou\"}}\n",
    "print(dict[\"Sebastian\"]) # . asi accedemos a los diccionarios\n",
    "print(dict[\"Sebastian\"][0])\n",
    "print(dict[\"Andrea\"])\n",
    "# print(dict[0]) # asi solo accedemos a las listas o tuplas\n"
   ]
  },
  {
   "cell_type": "code",
   "execution_count": 5,
   "metadata": {},
   "outputs": [
    {
     "name": "stdout",
     "output_type": "stream",
     "text": [
      "1\n"
     ]
    }
   ],
   "source": [
    "\n",
    "# - Tuplas\n",
    "tuplex = (1,2,3,4,5)\n",
    "print(tuplex[0])"
   ]
  },
  {
   "cell_type": "code",
   "execution_count": 12,
   "metadata": {},
   "outputs": [
    {
     "name": "stdout",
     "output_type": "stream",
     "text": [
      "['Lino', 'Andrea']\n",
      "('Andre', 'Katherine')\n"
     ]
    }
   ],
   "source": [
    "\n",
    "# * la unica diferencia entre las tuplas y las listas es que las tuplas son INMUTABLES, mientras que las listas no lo son\n",
    "\n",
    "listamut = [\"Sebastian\", \"Andrea\"]\n",
    "listamut[0] = \"Lino\"\n",
    "print(listamut)\n",
    "\n",
    "tuplamut = (\"Andre\", \"Katherine\")\n",
    "# ! no se admite la reasignación de ningun tipo\n",
    "# tuplamut = (9, 8)\n",
    "# tuplamut[0] = \"Caceres\"\n",
    "print(tuplamut)\n"
   ]
  },
  {
   "cell_type": "code",
   "execution_count": null,
   "metadata": {},
   "outputs": [],
   "source": []
  }
 ],
 "metadata": {
  "kernelspec": {
   "display_name": "Python 3",
   "language": "python",
   "name": "python3"
  },
  "language_info": {
   "codemirror_mode": {
    "name": "ipython",
    "version": 3
   },
   "file_extension": ".py",
   "mimetype": "text/x-python",
   "name": "python",
   "nbconvert_exporter": "python",
   "pygments_lexer": "ipython3",
   "version": "3.12.3"
  }
 },
 "nbformat": 4,
 "nbformat_minor": 2
}
